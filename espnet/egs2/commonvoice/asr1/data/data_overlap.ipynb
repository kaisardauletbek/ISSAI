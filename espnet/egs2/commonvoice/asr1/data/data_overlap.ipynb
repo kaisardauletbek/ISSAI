{
 "cells": [
  {
   "cell_type": "code",
   "execution_count": 111,
   "id": "aadf1733",
   "metadata": {},
   "outputs": [],
   "source": [
    "import pandas as pd"
   ]
  },
  {
   "cell_type": "code",
   "execution_count": 112,
   "id": "215552fa",
   "metadata": {},
   "outputs": [],
   "source": [
    "def train_test_overlap(train, test):\n",
    "    c_test = 0\n",
    "    for test_sent in test:\n",
    "        for tr_sent in train:\n",
    "            if tr_sent == test_sent:\n",
    "                #print(tr_sent)\n",
    "                c_test+=1\n",
    "                \n",
    "    test_pct = c_test/len(train) * 100\n",
    "    return test_pct\n",
    "\n",
    "def train_dev_overlap(train, dev):\n",
    "    c_dev = 0\n",
    "    for dev_sent in dev:\n",
    "        for tr_sent in train:\n",
    "            if tr_sent == dev_sent:\n",
    "                #print(tr_sent)\n",
    "                c_dev+=1\n",
    "    dev_pct = c_dev/len(train) * 100\n",
    "    return dev_pct\n",
    "\n",
    "def rem_train_test_overlap(train, test, id):\n",
    "    for test_sent in test:\n",
    "        if test_sent[id:].strip() in train:\n",
    "            test.remove(test_sent)\n",
    "    return test\n",
    "\n",
    "def rem_train_dev_overlap(train, dev, id):\n",
    "    for dev_sent in dev:\n",
    "        if dev_sent[id:].strip() in train:\n",
    "            dev.remove(dev_sent)\n",
    "    return dev"
   ]
  },
  {
   "cell_type": "code",
   "execution_count": 114,
   "id": "65c104e2",
   "metadata": {},
   "outputs": [],
   "source": [
    "test_path = \"test_\"\n",
    "dev_path = \"dev_\"\n",
    "train_path = \"train_\"\n",
    "\n",
    "languages = [\"az\", \"ba\", \"cv\", \"kk\", \"ky\", \"sah\", \"tt\", \"tr\", \"ug\", \"uz\"]\n",
    "languages = [\"cv\"]\n",
    "\n",
    "\n",
    "for lang in languages:\n",
    "    t = open(test_path+lang+\"/text_orig\")\n",
    "    d = open(dev_path+lang+\"/text_orig\")\n",
    "    tr = open(train_path+lang+\"/text\")\n",
    "\n",
    "    train = []\n",
    "    test = []\n",
    "    dev = []\n",
    "\n",
    "    for i in t:\n",
    "        test.append(i.strip()) #[153:]\n",
    "\n",
    "    for j in d:\n",
    "        dev.append(j.strip()) #[153:]\n",
    "\n",
    "    for k in tr:\n",
    "        train.append(k[153:].strip())\n",
    "        \n",
    "    #test_pct = train_test_overlap(train, test)\n",
    "    #dev_pct = train_dev_overlap(train, dev)\n",
    "    \n",
    "    test_cl = rem_train_test_overlap(train, test, 153)\n",
    "    dev_cl = rem_train_dev_overlap(train, dev, 153)\n",
    "    \n",
    "    test_text = open(test_path+lang+\"/text\", \"w\")\n",
    "    dev_text = open(dev_path+lang+\"/text\", \"w\")\n",
    "    \n",
    "    for line_test in test_cl:\n",
    "        test_text.write(line_test + \"\\n\")\n",
    "    test_text.close()\n",
    "    \n",
    "    for line_dev in dev_cl:\n",
    "        dev_text.write(line_dev + \"\\n\")\n",
    "    dev_text.close()\n",
    "    \n",
    "    #print(f\"Language: {lang}\")\n",
    "    #print(f\"Train / Test overlap: {test_pct}%\")\n",
    "    #print(f\"Train / Dev overlap: {dev_pct}%\")\n",
    "    #print(\"\\n\\n\")"
   ]
  },
  {
   "cell_type": "code",
   "execution_count": 106,
   "id": "2192f19d",
   "metadata": {},
   "outputs": [],
   "source": [
    "test_path = \"test_\"\n",
    "dev_path = \"dev_\"\n",
    "train_path = \"train_\"\n",
    "\n",
    "ksc1 = [\"ksc1\"]\n",
    "\n",
    "for lang in ksc1:\n",
    "    t = open(test_path+lang+\"/text_orig\")\n",
    "    d = open(dev_path+lang+\"/text_orig\")\n",
    "    tr = open(train_path+lang+\"/text\")\n",
    "\n",
    "    train = []\n",
    "    test = []\n",
    "    dev = []\n",
    "\n",
    "    for i in t:\n",
    "        test.append(i.strip()) #[32:]\n",
    "\n",
    "    for j in d:\n",
    "        dev.append(j.strip())  #[32:]\n",
    "\n",
    "    for k in tr:\n",
    "        train.append(k[32:].strip())\n",
    "        \n",
    "    #test_pct = train_test_overlap(train, test)\n",
    "    #dev_pct = train_dev_overlap(train, dev)\n",
    "    \n",
    "    test_cl = rem_train_test_overlap(train, test, 32)\n",
    "    dev_cl = rem_train_dev_overlap(train, dev, 32)\n",
    "    \n",
    "    test_text = open(test_path+lang+\"/text\", \"w\")\n",
    "    dev_text = open(dev_path+lang+\"/text\", \"w\")\n",
    "    \n",
    "    for line_test in test_cl:\n",
    "        test_text.write(line_test + \"\\n\")\n",
    "    test_text.close()\n",
    "    \n",
    "    for line_dev in dev_cl:\n",
    "        dev_text.write(line_dev + \"\\n\")\n",
    "    dev_text.close()\n",
    "    \n",
    "    #print(f\"Language: {lang}\")\n",
    "    #print(f\"Train / Test overlap: {test_pct}%\")\n",
    "    #print(f\"Train / Dev overlap: {dev_pct}%\")\n",
    "    #print(\"\\n\\n\")"
   ]
  },
  {
   "cell_type": "code",
   "execution_count": 107,
   "id": "3f0004cd",
   "metadata": {},
   "outputs": [
    {
     "data": {
      "text/plain": [
       "2743"
      ]
     },
     "execution_count": 107,
     "metadata": {},
     "output_type": "execute_result"
    }
   ],
   "source": [
    "len(test_cl)"
   ]
  },
  {
   "cell_type": "code",
   "execution_count": null,
   "id": "d5d107e3",
   "metadata": {},
   "outputs": [],
   "source": []
  }
 ],
 "metadata": {
  "kernelspec": {
   "display_name": "Python 3 (ipykernel)",
   "language": "python",
   "name": "python3"
  },
  "language_info": {
   "codemirror_mode": {
    "name": "ipython",
    "version": 3
   },
   "file_extension": ".py",
   "mimetype": "text/x-python",
   "name": "python",
   "nbconvert_exporter": "python",
   "pygments_lexer": "ipython3",
   "version": "3.9.12"
  }
 },
 "nbformat": 4,
 "nbformat_minor": 5
}
